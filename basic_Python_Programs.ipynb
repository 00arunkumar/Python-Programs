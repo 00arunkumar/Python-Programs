{
  "cells": [
    {
      "cell_type": "markdown",
      "metadata": {
        "id": "mxjupmsA8f60"
      },
      "source": [
        "  # **Basic Python Programs**   -- By Arun Kumar\n",
        "\n",
        "\n"
      ]
    },
    {
      "cell_type": "markdown",
      "metadata": {},
      "source": [
        "<p align=\"center\"> <img src=\"https://d1jnx9ba8s6j9r.cloudfront.net/blog/wp-content/uploads/2017/06/Python-Programming-Edureka.png\" /> </p>"
      ]
    },
    {
      "cell_type": "markdown",
      "metadata": {
        "id": "SiEHWbz79FZ9"
      },
      "source": [
        "**Q1.Write a program to print the given number is odd or even.**"
      ]
    },
    {
      "cell_type": "code",
      "execution_count": null,
      "metadata": {
        "colab": {
          "base_uri": "https://localhost:8080/"
        },
        "id": "ZKV1vkYE9MVR",
        "outputId": "2d70adb4-4334-43c7-ed91-e72e22257519"
      },
      "outputs": [
        {
          "name": "stdout",
          "output_type": "stream",
          "text": [
            "Please enter a number :25\n",
            "the given number is ODD\n"
          ]
        }
      ],
      "source": [
        "num = int(input(\"Please enter a number :\"))\n",
        "\n",
        "if num%2 == 0:\n",
        "  print(\"the given number EVEN \")\n",
        "\n",
        "else:\n",
        "  print(\"the given number is ODD\")"
      ]
    },
    {
      "cell_type": "markdown",
      "metadata": {
        "id": "SyjcOZzr9_IE"
      },
      "source": [
        "**Q2.Write a program to find the given number is positive or negative.**"
      ]
    },
    {
      "cell_type": "code",
      "execution_count": null,
      "metadata": {
        "colab": {
          "base_uri": "https://localhost:8080/"
        },
        "id": "ezGUrbrY9u7x",
        "outputId": "7070df65-222d-4cee-aba3-4923bbf993aa"
      },
      "outputs": [
        {
          "name": "stdout",
          "output_type": "stream",
          "text": [
            "Please enter a number :-56\n",
            "the given number is NEGATIVE\n"
          ]
        }
      ],
      "source": [
        "num = int(input(\"Please enter a number :\"))\n",
        "\n",
        "if num > 0:\n",
        "  print(\"the given number POSITIVE \")\n",
        "\n",
        "else:\n",
        "  print(\"the given number is NEGATIVE\")"
      ]
    },
    {
      "cell_type": "markdown",
      "metadata": {
        "id": "fFo2rAeV-XzI"
      },
      "source": [
        "**Q3.Write a program to find the sum of two numbers.**"
      ]
    },
    {
      "cell_type": "code",
      "execution_count": null,
      "metadata": {
        "colab": {
          "base_uri": "https://localhost:8080/"
        },
        "id": "zvv4XGDR-PrC",
        "outputId": "eddf3ce9-f5c3-4801-b591-a363ba7e6bcb"
      },
      "outputs": [
        {
          "name": "stdout",
          "output_type": "stream",
          "text": [
            "sum :  11\n"
          ]
        }
      ],
      "source": [
        "def sum(a,b):\n",
        "  print(\"sum : \", a+b)\n",
        "\n",
        "\n",
        "#call function\n",
        "sum(5,6)"
      ]
    },
    {
      "cell_type": "markdown",
      "metadata": {
        "id": "OHMww9CV-yDa"
      },
      "source": [
        "**Q4.Write a program to find if the given number is prime or not.**"
      ]
    },
    {
      "cell_type": "code",
      "execution_count": null,
      "metadata": {
        "colab": {
          "base_uri": "https://localhost:8080/"
        },
        "id": "8dr52LnZ-rKN",
        "outputId": "bc7c3b6b-b188-4c38-e0fd-4f414d25e6d8"
      },
      "outputs": [
        {
          "name": "stdout",
          "output_type": "stream",
          "text": [
            "2 is a prime number\n"
          ]
        }
      ],
      "source": [
        "\n",
        "def prime_or_not(num):\n",
        "  flag = False\n",
        "  if num == 1:\n",
        "    print(num, \"is not a prime number\")\n",
        "  elif num > 1:\n",
        "    # check for factors\n",
        "    for i in range(2, num):\n",
        "        if (num % i) == 0:\n",
        "            # if factor is found, set flag to True\n",
        "            flag = True\n",
        "            break\n",
        "\n",
        "\n",
        "    if flag:\n",
        "        print(num, \"is not a prime number\")\n",
        "    else:\n",
        "        print(num, \"is a prime number\")\n",
        "\n",
        "\n",
        "\n",
        "#call function\n",
        "prime_or_not(2)\n",
        "\n",
        "\n"
      ]
    },
    {
      "cell_type": "markdown",
      "metadata": {
        "id": "2EzWeF0xK7-E"
      },
      "source": [
        "**Q5.Write a program to check if the given number is palindrome or not.**"
      ]
    },
    {
      "cell_type": "code",
      "execution_count": null,
      "metadata": {
        "colab": {
          "base_uri": "https://localhost:8080/"
        },
        "id": "MK9KYI9xH-Ds",
        "outputId": "0bdd0f2d-3929-4fd4-c7a3-c84fc94bc7c0"
      },
      "outputs": [
        {
          "name": "stdout",
          "output_type": "stream",
          "text": [
            "The number is palindrome!\n"
          ]
        }
      ],
      "source": [
        "def palidrome(num):\n",
        "  temp=num\n",
        "  rev=0\n",
        "  while(num>0):\n",
        "    dig=num%10\n",
        "    rev=rev*10+dig\n",
        "    num=num//10\n",
        "\n",
        "  if temp == rev :\n",
        "      print(\"The number is palindrome!\")\n",
        "  else:\n",
        "      print(\"Not a palindrome!\")\n",
        "\n",
        "\n",
        "\n",
        "#check\n",
        "palidrome(121)"
      ]
    },
    {
      "cell_type": "markdown",
      "metadata": {
        "id": "_d9VRAZKMZzJ"
      },
      "source": [
        "**Q6.Write a program to check if the given number is Armstrong or not.**"
      ]
    },
    {
      "cell_type": "code",
      "execution_count": null,
      "metadata": {
        "colab": {
          "base_uri": "https://localhost:8080/"
        },
        "id": "HzCelfmJL3v8",
        "outputId": "a59969e3-14c7-4dee-fb56-34dde88b089d"
      },
      "outputs": [
        {
          "name": "stdout",
          "output_type": "stream",
          "text": [
            "153 is an Armstrong number\n"
          ]
        }
      ],
      "source": [
        "def armstrong(num):\n",
        "  sum = 0\n",
        "  # find the sum of the cube of each digit\n",
        "  temp = num\n",
        "  while temp > 0:\n",
        "    digit = temp % 10\n",
        "    sum += digit ** 3\n",
        "    temp //= 10\n",
        "\n",
        "  # display the result\n",
        "  if num == sum:\n",
        "    print(num,\"is an Armstrong number\")\n",
        "  else:\n",
        "    print(num,\"is not an Armstrong number\")\n",
        "\n",
        "\n",
        "#call function\n",
        "armstrong(153)\n"
      ]
    },
    {
      "cell_type": "markdown",
      "metadata": {
        "id": "iFtNUz10OChz"
      },
      "source": [
        "**Q7.Write a program to check if the given strings are anagram or not.**"
      ]
    },
    {
      "cell_type": "code",
      "execution_count": null,
      "metadata": {
        "colab": {
          "base_uri": "https://localhost:8080/"
        },
        "id": "cVoKI6RNNlBM",
        "outputId": "46a84283-f28c-4eac-c9c2-54ff1421e2fd"
      },
      "outputs": [
        {
          "name": "stdout",
          "output_type": "stream",
          "text": [
            "race and care are anagram.\n"
          ]
        }
      ],
      "source": [
        "\n",
        "def anagram(str1,str2):\n",
        "\n",
        "  # convert both the strings into lowercase\n",
        "  str1 = str1.lower()\n",
        "  str2 = str2.lower()\n",
        "\n",
        "  # check if length is same\n",
        "  if(len(str1) == len(str2)):\n",
        "\n",
        "    # sort the strings\n",
        "    sorted_str1 = sorted(str1)\n",
        "    sorted_str2 = sorted(str2)\n",
        "\n",
        "    # if sorted char arrays are same\n",
        "    if(sorted_str1 == sorted_str2):\n",
        "        print(str1 + \" and \" + str2 + \" are anagram.\")\n",
        "    else:\n",
        "        print(str1 + \" and \" + str2 + \" are not anagram.\")\n",
        "\n",
        "  else:\n",
        "    print(str1 + \" and \" + str2 + \" are not anagram.\")\n",
        "\n",
        "\n",
        "#call function\n",
        "anagram(\"race\",\"care\")"
      ]
    },
    {
      "cell_type": "markdown",
      "metadata": {
        "id": "0DV30IxMO2gr"
      },
      "source": [
        "**Q8.Write a program to find a maximum of two numbers.**"
      ]
    },
    {
      "cell_type": "code",
      "execution_count": null,
      "metadata": {
        "colab": {
          "base_uri": "https://localhost:8080/"
        },
        "id": "ZQPiLHuNOsyI",
        "outputId": "83cdf7a3-ae38-4d47-a258-a210b9d7f696"
      },
      "outputs": [
        {
          "name": "stdout",
          "output_type": "stream",
          "text": [
            "the maximum number :  5\n"
          ]
        }
      ],
      "source": [
        "def maximum(num1,num2):\n",
        "\n",
        "  print(\"the maximum number : \", max(num1,num2))\n",
        "\n",
        "\n",
        "#call function\n",
        "maximum(5,2)"
      ]
    },
    {
      "cell_type": "markdown",
      "metadata": {
        "id": "dUR7mI-ePnw_"
      },
      "source": [
        "**Q9.Write a program to find a minimum of two numbers.**"
      ]
    },
    {
      "cell_type": "code",
      "execution_count": null,
      "metadata": {
        "colab": {
          "base_uri": "https://localhost:8080/"
        },
        "id": "mhuMAWwKPd7Y",
        "outputId": "dabf343e-e612-407a-881f-26be0dba7fc6"
      },
      "outputs": [
        {
          "name": "stdout",
          "output_type": "stream",
          "text": [
            "the minimum number :  2\n"
          ]
        }
      ],
      "source": [
        "def minimum(num1,num2):\n",
        "\n",
        "  print(\"the minimum number : \", min(num1,num2))\n",
        "\n",
        "\n",
        "#call function\n",
        "minimum(5,2)"
      ]
    },
    {
      "cell_type": "markdown",
      "metadata": {
        "id": "t1vemtzpP5m5"
      },
      "source": [
        "Q10.Write a program to find a maximum of three numbers."
      ]
    },
    {
      "cell_type": "code",
      "execution_count": null,
      "metadata": {
        "colab": {
          "base_uri": "https://localhost:8080/"
        },
        "id": "LkRwax76P0Cy",
        "outputId": "6607bfe7-2464-434c-8ec7-0338bf2c52b1"
      },
      "outputs": [
        {
          "name": "stdout",
          "output_type": "stream",
          "text": [
            "The largest number is 58\n"
          ]
        }
      ],
      "source": [
        "\n",
        "def largest(num1,num2,num3):\n",
        "\n",
        "\n",
        "  if (num1 >= num2) and (num1 >= num3):\n",
        "\n",
        "    print(\"The largest number is\", num1)\n",
        "\n",
        "  elif (num2 >= num1) and (num2 >= num3):\n",
        "\n",
        "    print(\"The largest number is\", num2)\n",
        "\n",
        "  else:\n",
        "    print(\"The largest number is\", num3)\n",
        "\n",
        "\n",
        "\n",
        "#call function\n",
        "largest(5,10,58)\n"
      ]
    },
    {
      "cell_type": "markdown",
      "metadata": {
        "id": "4Eu84CrcRjo2"
      },
      "source": [
        "**Q11.Write a program to find a minimum of three numbers.**"
      ]
    },
    {
      "cell_type": "code",
      "execution_count": null,
      "metadata": {
        "colab": {
          "base_uri": "https://localhost:8080/"
        },
        "id": "pK5ZJ0AvQqN9",
        "outputId": "f8988367-ebec-4067-b697-81b126a026ec"
      },
      "outputs": [
        {
          "name": "stdout",
          "output_type": "stream",
          "text": [
            "The smallest number is 5\n"
          ]
        }
      ],
      "source": [
        "\n",
        "def smallest(num1,num2,num3):\n",
        "\n",
        "\n",
        "  if (num1 <= num2) and (num1 <= num3):\n",
        "\n",
        "    print(\"The smallest number is\", num1)\n",
        "\n",
        "  elif (num2 <= num1) and (num2 <= num3):\n",
        "\n",
        "    print(\"The smallest number is\", num2)\n",
        "\n",
        "  else:\n",
        "    print(\"The smallest number is\", num3)\n",
        "\n",
        "\n",
        "\n",
        "#call function\n",
        "smallest(5,10,58)"
      ]
    },
    {
      "cell_type": "markdown",
      "metadata": {
        "id": "60fD3LSBSXLc"
      },
      "source": [
        "**Q12.Write a program to find a factorial of a number.**"
      ]
    },
    {
      "cell_type": "code",
      "execution_count": null,
      "metadata": {
        "colab": {
          "base_uri": "https://localhost:8080/"
        },
        "id": "LRnuJdy7R4mg",
        "outputId": "6c1800a4-e024-4795-ac02-a502708d95a9"
      },
      "outputs": [
        {
          "name": "stdout",
          "output_type": "stream",
          "text": [
            "The factorial of 5 is 120\n"
          ]
        }
      ],
      "source": [
        "\n",
        "def factorial(num):\n",
        "\n",
        "  factorial = 1\n",
        "\n",
        "  # check if the number is negative, positive or zero\n",
        "\n",
        "  if num < 0:\n",
        "    print(\"Sorry, factorial does not exist for negative numbers\")\n",
        "\n",
        "  elif num == 0:\n",
        "    print(\"The factorial of 0 is 1\")\n",
        "\n",
        "  else:\n",
        "    for i in range(1,num + 1):\n",
        "      factorial = factorial*i\n",
        "    print(\"The factorial of\",num,\"is\",factorial)\n",
        "\n",
        "\n",
        "#call function\n",
        "factorial(5)\n"
      ]
    },
    {
      "cell_type": "markdown",
      "metadata": {
        "id": "B6ohlzyfTJfJ"
      },
      "source": [
        "**Q13.Write a program to find a fibonacci of a number.**"
      ]
    },
    {
      "cell_type": "code",
      "execution_count": null,
      "metadata": {
        "colab": {
          "base_uri": "https://localhost:8080/"
        },
        "id": "qACtS2knS7yX",
        "outputId": "7802737c-e441-43e0-a807-9ba4d59b9178"
      },
      "outputs": [
        {
          "name": "stdout",
          "output_type": "stream",
          "text": [
            "Fibonacci sequence:\n",
            "0\n",
            "1\n",
            "1\n",
            "2\n",
            "3\n"
          ]
        }
      ],
      "source": [
        "def fib(nterms):\n",
        "\n",
        "  # first two terms\n",
        "  n1, n2 = 0, 1\n",
        "  count = 0\n",
        "\n",
        "  # check if the number of terms is valid\n",
        "  if nterms <= 0:\n",
        "   print(\"Please enter a positive integer\")\n",
        "\n",
        "   # if there is only one term, return n1\n",
        "  elif nterms == 1:\n",
        "    print(\"Fibonacci sequence upto\",nterms,\":\")\n",
        "    print(n1)\n",
        "\n",
        "    # generate fibonacci sequenc\n",
        "\n",
        "  else:\n",
        "    print(\"Fibonacci sequence:\")\n",
        "    while count < nterms:\n",
        "      print(n1)\n",
        "      nth = n1 + n2\n",
        "\n",
        "      n1 = n2\n",
        "      n2 = nth\n",
        "      count += 1\n",
        "\n",
        "#call function\n",
        "fib(5)"
      ]
    },
    {
      "cell_type": "markdown",
      "metadata": {
        "id": "_5eS1wpPUZck"
      },
      "source": [
        "**Q14.Write a program to find GCD of two numbers.**"
      ]
    },
    {
      "cell_type": "code",
      "execution_count": null,
      "metadata": {
        "colab": {
          "base_uri": "https://localhost:8080/"
        },
        "id": "sZ22YhLJT7t1",
        "outputId": "b129b3b5-eb55-4524-e8e1-7b2848419469"
      },
      "outputs": [
        {
          "name": "stdout",
          "output_type": "stream",
          "text": [
            "GCD of 25 and 30 is 5\n"
          ]
        }
      ],
      "source": [
        "\n",
        "def gcd(num1,num2):\n",
        "\n",
        "  for i in range(1, min(num1, num2)):\n",
        "    if num1 % i == 0 and num2 % i == 0:\n",
        "        gcd = i\n",
        "\n",
        "  print(\"GCD of\", num1, \"and\", num2, \"is\", gcd)\n",
        "\n",
        "\n",
        "#call function\n",
        "gcd(25,30)"
      ]
    },
    {
      "cell_type": "markdown",
      "metadata": {
        "id": "gN3-SHBcWpRL"
      },
      "source": [
        "### Q15.Write a program to print the following pattern.\n",
        "\n",
        "### *\n",
        "### * *\n",
        "### * * *\n",
        "### * * * *\n",
        "### * * * * *"
      ]
    },
    {
      "cell_type": "code",
      "execution_count": null,
      "metadata": {
        "colab": {
          "base_uri": "https://localhost:8080/"
        },
        "id": "k4QCCaLnWe-D",
        "outputId": "ee928fa9-d8c8-4423-a007-8413c1881cf7"
      },
      "outputs": [
        {
          "name": "stdout",
          "output_type": "stream",
          "text": [
            "* \r\n",
            "* * \r\n",
            "* * * \r\n",
            "* * * * \r\n",
            "* * * * * \r\n"
          ]
        }
      ],
      "source": [
        "# number of rows\n",
        "rows = 5\n",
        "for i in range(0, rows):\n",
        "    # nested loop for each column\n",
        "    for j in range(0, i + 1):\n",
        "\n",
        "        print(\"*\", end=' ')\n",
        "\n",
        "    print(\"\\r\")\n"
      ]
    },
    {
      "cell_type": "markdown",
      "metadata": {
        "id": "sXJh6egFXv5e"
      },
      "source": [
        "### Q16.Write a program to print the following pattern.\n",
        "\n",
        "###     *\n",
        "###    * *\n",
        "###   * * *\n",
        "###  * * * *\n",
        "### * * * * *"
      ]
    },
    {
      "cell_type": "code",
      "execution_count": null,
      "metadata": {
        "colab": {
          "base_uri": "https://localhost:8080/"
        },
        "id": "a3pLjs1rXj9i",
        "outputId": "2f56617d-f73e-4d17-8d0b-07188cbf4973"
      },
      "outputs": [
        {
          "name": "stdout",
          "output_type": "stream",
          "text": [
            "        *   \n",
            "       *  *   \n",
            "      *  *  *   \n",
            "     *  *  *  *   \n",
            "    *  *  *  *  *   \n"
          ]
        }
      ],
      "source": [
        "\n",
        "size = 5\n",
        "m = (2 * size) - 2\n",
        "for i in range(0, size):\n",
        "    for j in range(0, m):\n",
        "        print(end=\" \")\n",
        "    # decrementing m after each loop\n",
        "    m = m - 1\n",
        "    for j in range(0, i + 1):\n",
        "        print(\"* \", end=' ')\n",
        "    print(\" \")\n"
      ]
    },
    {
      "cell_type": "markdown",
      "metadata": {
        "id": "ppjR1EofYXoK"
      },
      "source": [
        "### Q17. Write a program to print the following pattern.\n",
        "\n",
        "### 1\n",
        "### 1 2\n",
        "### 1 2 3\n",
        "### 1 2 3 4\n",
        "### 1 2 3 4 5"
      ]
    },
    {
      "cell_type": "code",
      "execution_count": null,
      "metadata": {
        "colab": {
          "base_uri": "https://localhost:8080/"
        },
        "id": "K6bgziIUYPyE",
        "outputId": "cbc5b507-fcac-44d3-e12b-dabbd14df11f"
      },
      "outputs": [
        {
          "name": "stdout",
          "output_type": "stream",
          "text": [
            "1 \n",
            "1 2 \n",
            "1 2 3 \n",
            "1 2 3 4 \n",
            "1 2 3 4 5 \n"
          ]
        }
      ],
      "source": [
        "rows = 5\n",
        "for i in range(1, rows + 1):\n",
        "    for j in range(1, i + 1):\n",
        "        print(j, end=' ')\n",
        "    print('')"
      ]
    },
    {
      "cell_type": "markdown",
      "metadata": {
        "id": "YTpBULxEYt4f"
      },
      "source": [
        "### Q18.Write a program to print the following pattern.\n",
        "\n",
        "### 1\n",
        "### 2  3\n",
        "### 4  5  6\n",
        "### 7  8  9  10\n",
        "### 11 12 13 14 15"
      ]
    },
    {
      "cell_type": "code",
      "execution_count": null,
      "metadata": {
        "colab": {
          "base_uri": "https://localhost:8080/"
        },
        "id": "ZQZMXAPuYp7x",
        "outputId": "0d317fbf-dc6e-4d38-b843-27ac77dd5496"
      },
      "outputs": [
        {
          "name": "stdout",
          "output_type": "stream",
          "text": [
            "1 \n",
            "2 3 \n",
            "4 5 6 \n",
            "7 8 9 10 \n",
            "11 12 13 14 15 \n"
          ]
        }
      ],
      "source": [
        "rows = 5\n",
        "number = 1\n",
        "\n",
        "for i in range(1, rows+1):\n",
        "    for j in range(1, i+1):\n",
        "        print(number, end=\" \")\n",
        "        number += 1\n",
        "    print()"
      ]
    },
    {
      "cell_type": "markdown",
      "metadata": {
        "id": "q70lN8G_ZC2m"
      },
      "source": [
        "### Q19. Write a program to print the following pattern.\n",
        "\n",
        "### A\n",
        "### B B\n",
        "### C C C\n",
        "### D D D D\n",
        "### E E E E E"
      ]
    },
    {
      "cell_type": "code",
      "execution_count": null,
      "metadata": {
        "colab": {
          "base_uri": "https://localhost:8080/"
        },
        "id": "9WE4nXHDZNuv",
        "outputId": "86e9d2e2-0bb0-4978-d049-1f28384b0a06"
      },
      "outputs": [
        {
          "name": "stdout",
          "output_type": "stream",
          "text": [
            "A \n",
            "\n",
            "B B \n",
            "\n",
            "C C C \n",
            "\n",
            "D D D D \n",
            "\n",
            "E E E E E \n",
            "\n"
          ]
        }
      ],
      "source": [
        "rows = 5\n",
        "\n",
        "ascii_value = 65\n",
        "\n",
        "for i in range(rows):\n",
        "    for j in range(i+1):\n",
        "        alphabet = chr(ascii_value)\n",
        "        print(alphabet, end=\" \")\n",
        "\n",
        "    ascii_value += 1\n",
        "    print(\"\\n\")"
      ]
    },
    {
      "cell_type": "markdown",
      "metadata": {
        "id": "Wv_6pr2zZOnQ"
      },
      "source": [
        "### Q20. Write a program to print the following pattern.\n",
        "\n",
        "### A\n",
        "### B C\n",
        "### D E F\n",
        "### G H I J\n",
        "### K L M N O"
      ]
    },
    {
      "cell_type": "code",
      "execution_count": null,
      "metadata": {
        "colab": {
          "base_uri": "https://localhost:8080/"
        },
        "id": "SO5Ny3KcZYZO",
        "outputId": "456f85b8-f2ac-46db-b747-dd3cdd7ccab0"
      },
      "outputs": [
        {
          "name": "stdout",
          "output_type": "stream",
          "text": [
            "A  \n",
            "B C  \n",
            "D E F  \n",
            "G H I J  \n",
            "K L M N O  \n"
          ]
        }
      ],
      "source": [
        "# ASCII number of 'A'\n",
        "ascii_number = 65\n",
        "rows = 5\n",
        "for i in range(0, rows):\n",
        "    for j in range(0, i + 1):\n",
        "        character = chr(ascii_number)\n",
        "        print(character, end=' ')\n",
        "        ascii_number += 1\n",
        "    print(\" \")"
      ]
    },
    {
      "cell_type": "markdown",
      "metadata": {},
      "source": [
        "<p align=\"center\"> <img src=\"https://blog.teamtreehouse.com/wp-content/uploads/2017/11/Thanksgiving.png\" /> </p>"
      ]
    },
    {
      "cell_type": "markdown",
      "metadata": {},
      "source": []
    }
  ],
  "metadata": {
    "colab": {
      "provenance": []
    },
    "kernelspec": {
      "display_name": "Python 3",
      "name": "python3"
    },
    "language_info": {
      "name": "python"
    }
  },
  "nbformat": 4,
  "nbformat_minor": 0
}
