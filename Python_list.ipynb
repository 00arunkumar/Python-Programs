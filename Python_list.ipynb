{
 "cells": [
  {
   "cell_type": "markdown",
   "metadata": {},
   "source": [
    "<p align=\"center\"> <img src=\"https://www.besanttechnologies.com/wp-content/uploads/2019/05/python-list.jpg\" /> </p>"
   ]
  },
  {
   "cell_type": "markdown",
   "metadata": {},
   "source": [
    "### Q1 Python program to interchange first and last elements in a list"
   ]
  },
  {
   "cell_type": "code",
   "execution_count": 1,
   "metadata": {},
   "outputs": [
    {
     "name": "stdout",
     "output_type": "stream",
     "text": [
      "Original list:  [10, 14, 5, 9, 56, 12]\n",
      "Swapped list:  [12, 14, 5, 9, 56, 10]\n"
     ]
    }
   ],
   "source": [
    "def swapList(sl):\n",
    "    n = len(sl)\n",
    "      \n",
    "    # Swapping \n",
    "    temp = sl[0]\n",
    "    sl[0] = sl[n - 1]\n",
    "    sl[n - 1] = temp\n",
    "      \n",
    "    return sl\n",
    "      \n",
    "l = [10, 14, 5, 9, 56, 12]\n",
    "\n",
    "print(\"Original list: \",l)\n",
    "print(\"Swapped list: \",swapList(l))"
   ]
  },
  {
   "cell_type": "markdown",
   "metadata": {},
   "source": [
    "### Q2 Python program to swap two elements in a list"
   ]
  },
  {
   "cell_type": "code",
   "execution_count": 2,
   "metadata": {},
   "outputs": [
    {
     "name": "stdout",
     "output_type": "stream",
     "text": [
      "Original list:  [10, 14, 5, 9, 56, 12]\n",
      "Swapped list:  [10, 56, 5, 9, 14, 12]\n"
     ]
    }
   ],
   "source": [
    "def swapList(sl,pos1,pos2):\n",
    "    n = len(sl)     \n",
    "    # Swapping \n",
    "    temp = sl[pos1]\n",
    "    sl[pos1] = sl[pos2]\n",
    "    sl[pos2] = temp\n",
    "    return sl      \n",
    "\n",
    "l= [10, 14, 5, 9, 56, 12]\n",
    "pos1= 2\n",
    "pos2= 5\n",
    "\n",
    "print(\"Original list: \",l)\n",
    "print(\"Swapped list: \",swapList(l,pos1-1,pos2-1))"
   ]
  },
  {
   "cell_type": "markdown",
   "metadata": {},
   "source": [
    "### Q3 Python program to Swap elements in String list"
   ]
  },
  {
   "cell_type": "code",
   "execution_count": 3,
   "metadata": {},
   "outputs": [
    {
     "name": "stdout",
     "output_type": "stream",
     "text": [
      "The original list is : ['Gfg', 'is', 'best', 'for', 'Geeks']\n",
      "List after performing character swaps : ['efg', 'is', 'bGst', 'for', 'eGGks']\n"
     ]
    }
   ],
   "source": [
    "list = ['Gfg', 'is', 'best', 'for', 'Geeks']\n",
    "\n",
    "\n",
    "print(\"The original list is : \" + str(list))\n",
    "\n",
    "# Swap elements in String list\n",
    "\n",
    "res = [sub.replace('G', '-').replace('e', 'G').replace('-', 'e') for sub in list]\n",
    "\n",
    "# printing result\n",
    "print (\"List after performing character swaps : \" + str(res))\n"
   ]
  },
  {
   "cell_type": "markdown",
   "metadata": {},
   "source": [
    "### Q4 Python program  to find length of list"
   ]
  },
  {
   "cell_type": "code",
   "execution_count": 1,
   "metadata": {},
   "outputs": [
    {
     "name": "stdout",
     "output_type": "stream",
     "text": [
      "Size of the list : 4\n"
     ]
    }
   ],
   "source": [
    "list = ['Python', 'Java', 'Ruby', 'JavaScript']\n",
    "size = len(list)\n",
    "\n",
    "print(\"Size of the list :\", size)"
   ]
  },
  {
   "cell_type": "markdown",
   "metadata": {},
   "source": [
    "### Q5 Python programs to check if element exists in list"
   ]
  },
  {
   "cell_type": "code",
   "execution_count": 3,
   "metadata": {},
   "outputs": [
    {
     "name": "stdout",
     "output_type": "stream",
     "text": [
      "Check if 9 is in [9, 2, 34, 2, 5, 9, 16]\n",
      "True\n"
     ]
    }
   ],
   "source": [
    "def check(list,element):\n",
    "    if element in list:\n",
    "        return True\n",
    "    else:\n",
    "        return False\n",
    "\n",
    "\n",
    "#initialise list\n",
    "li=[9, 2, 34, 2, 5, 9, 16]\n",
    "element= 9\n",
    "\n",
    "print(\"Check if\",element,\"is in\",li)\n",
    "print(check(li,element))"
   ]
  },
  {
   "cell_type": "markdown",
   "metadata": {},
   "source": [
    "### Q6 python program to clear a list in Python"
   ]
  },
  {
   "cell_type": "code",
   "execution_count": 4,
   "metadata": {},
   "outputs": [
    {
     "name": "stdout",
     "output_type": "stream",
     "text": [
      "Existing list\n",
      " ['Mon', 'Tue', 'Wed', 'Thu']\n",
      "After clearing the list\n",
      "\n",
      "[]\n"
     ]
    }
   ],
   "source": [
    "list = ['Mon', 'Tue', 'Wed', 'Thu']\n",
    "print(\"Existing list\\n\",list)\n",
    "\n",
    "#clear the list\n",
    "list.clear()\n",
    "\n",
    "print(\"After clearing the list\\n\")\n",
    "print(list)"
   ]
  },
  {
   "cell_type": "markdown",
   "metadata": {},
   "source": [
    "### Q7 Python program to Reversing a List"
   ]
  },
  {
   "cell_type": "code",
   "execution_count": 5,
   "metadata": {},
   "outputs": [
    {
     "name": "stdout",
     "output_type": "stream",
     "text": [
      "Reversed List: [7, 5, 3, 2]\n"
     ]
    }
   ],
   "source": [
    "prime_numbers = [2, 3, 5, 7]\n",
    "\n",
    "# reverse the order of list elements\n",
    "prime_numbers.reverse()\n",
    "\n",
    "\n",
    "print('Reversed List:', prime_numbers)\n",
    "\n"
   ]
  },
  {
   "cell_type": "markdown",
   "metadata": {},
   "source": [
    "### Q8 Python program to Cloning or Copying a list"
   ]
  },
  {
   "cell_type": "code",
   "execution_count": 6,
   "metadata": {},
   "outputs": [
    {
     "name": "stdout",
     "output_type": "stream",
     "text": [
      "Old List:  [1, 2, 3, 4, 5]\n",
      "New List:  [1, 2, 3, 4, 5]\n"
     ]
    }
   ],
   "source": [
    "my_list = [1, 2, 3, 4, 5]\n",
    "\n",
    "# Copy list using copy method\n",
    "copy_list = my_list.copy()\n",
    "print('Old List: ', my_list)\n",
    "print('New List: ', copy_list)"
   ]
  },
  {
   "cell_type": "markdown",
   "metadata": {},
   "source": [
    "### Q9 Python program to find Count occurrences of an element in a list"
   ]
  },
  {
   "cell_type": "code",
   "execution_count": 7,
   "metadata": {},
   "outputs": [
    {
     "name": "stdout",
     "output_type": "stream",
     "text": [
      "8 has occurred 5 times\n"
     ]
    }
   ],
   "source": [
    "def countX(lst, x):\n",
    "\treturn lst.count(x)\n",
    "\n",
    "\n",
    "# Driver Code\n",
    "lst = [8, 6, 8, 10, 8, 20, 10, 8, 8]\n",
    "x = 8\n",
    "print('{} has occurred {} times'.format(x,countX(lst, x)))\n"
   ]
  },
  {
   "cell_type": "markdown",
   "metadata": {},
   "source": [
    "### Q10 Python Program to find sum and average of List in Python"
   ]
  },
  {
   "cell_type": "code",
   "execution_count": 8,
   "metadata": {},
   "outputs": [
    {
     "name": "stdout",
     "output_type": "stream",
     "text": [
      "sum =  46\n",
      "average =  5.75\n"
     ]
    }
   ],
   "source": [
    "L = [4, 5, 1, 2, 9, 7, 10, 8]\n",
    "\n",
    "\n",
    "# using sum() method\n",
    "count = sum(L)\n",
    "\n",
    "# finding average\n",
    "avg = count/len(L)\n",
    "\n",
    "print(\"sum = \", count)\n",
    "print(\"average = \", avg)\n"
   ]
  },
  {
   "cell_type": "markdown",
   "metadata": {},
   "source": [
    "### Q11 Python program to find Sum of number digits in List"
   ]
  },
  {
   "cell_type": "code",
   "execution_count": 9,
   "metadata": {},
   "outputs": [
    {
     "name": "stdout",
     "output_type": "stream",
     "text": [
      "The original list is : [12, 67, 98, 34]\n",
      "List Integer Summation : [3, 13, 17, 7]\n"
     ]
    }
   ],
   "source": [
    "test_list = [12, 67, 98, 34]\n",
    "\n",
    "\n",
    "print(\"The original list is : \" + str(test_list))\n",
    "\n",
    "# Sum of number digits in List\n",
    "# using loop + str()\n",
    "res = []\n",
    "for ele in test_list:\n",
    "\tsum = 0\n",
    "\tfor digit in str(ele):\n",
    "\t\tsum += int(digit)\n",
    "\tres.append(sum)\n",
    "\t\n",
    "# printing result\n",
    "print (\"List Integer Summation : \" + str(res))\n"
   ]
  },
  {
   "cell_type": "markdown",
   "metadata": {},
   "source": [
    "### Q12 Python program to  Multiply all numbers in the list"
   ]
  },
  {
   "cell_type": "code",
   "execution_count": 10,
   "metadata": {},
   "outputs": [
    {
     "name": "stdout",
     "output_type": "stream",
     "text": [
      "24\n"
     ]
    }
   ],
   "source": [
    "def multiplyList(myList):\n",
    "\n",
    "\t# Multiply elements one by one\n",
    "\tresult = 1\n",
    "\tfor x in myList:\n",
    "\t\tresult = result * x\n",
    "\treturn result\n",
    "\n",
    "\n",
    "# Driver code\n",
    "list1 = [3, 2, 4]\n",
    "print(multiplyList(list1))\n",
    "\n"
   ]
  },
  {
   "cell_type": "markdown",
   "metadata": {},
   "source": [
    "### Q13 Python program to find smallest number in a list"
   ]
  },
  {
   "cell_type": "code",
   "execution_count": 1,
   "metadata": {},
   "outputs": [
    {
     "name": "stdout",
     "output_type": "stream",
     "text": [
      "Smallest element is: 4\n"
     ]
    }
   ],
   "source": [
    "\n",
    "list1 = [10, 20, 4, 45, 99]\n",
    "\n",
    "# sorting the list\n",
    "list1.sort()\n",
    "\n",
    "# printing the first element\n",
    "print(\"Smallest element is:\", list1[0])\n"
   ]
  },
  {
   "cell_type": "markdown",
   "metadata": {},
   "source": [
    "### Q14 Python program to find largest number in a list"
   ]
  },
  {
   "cell_type": "code",
   "execution_count": 3,
   "metadata": {},
   "outputs": [
    {
     "name": "stdout",
     "output_type": "stream",
     "text": [
      "Largest element is: 99\n"
     ]
    }
   ],
   "source": [
    "\n",
    "list1 = [10, 20, 4, 45, 99]\n",
    "\n",
    "# sorting the list\n",
    "list1.sort()\n",
    "\n",
    "# printing the first element\n",
    "print(\"Largest element is:\", list1[-1])\n"
   ]
  },
  {
   "cell_type": "markdown",
   "metadata": {},
   "source": [
    "### Q15 Python program to find second largest number in a list"
   ]
  },
  {
   "cell_type": "code",
   "execution_count": 4,
   "metadata": {},
   "outputs": [
    {
     "name": "stdout",
     "output_type": "stream",
     "text": [
      " Second Largest element is: 45\n"
     ]
    }
   ],
   "source": [
    "\n",
    "list1 = [10, 20, 4, 45, 99]\n",
    "\n",
    "# sorting the list\n",
    "list1.sort()\n",
    "\n",
    "# printing the first element\n",
    "print(\" Second Largest element is:\", list1[-2])\n"
   ]
  },
  {
   "cell_type": "markdown",
   "metadata": {},
   "source": [
    "### Q16 Python program to print even numbers in a list"
   ]
  },
  {
   "cell_type": "code",
   "execution_count": 5,
   "metadata": {},
   "outputs": [
    {
     "name": "stdout",
     "output_type": "stream",
     "text": [
      "10 4 66 "
     ]
    }
   ],
   "source": [
    "\n",
    "list1 = [10, 21, 4, 45, 66, 93]\n",
    "\n",
    "\n",
    "for num in list1:\n",
    "\t# checking condition\n",
    "\tif num % 2 == 0:\n",
    "\t\tprint(num, end=\" \")\n"
   ]
  },
  {
   "cell_type": "markdown",
   "metadata": {},
   "source": [
    "### Q17 Python program to print odd numbers in a List"
   ]
  },
  {
   "cell_type": "code",
   "execution_count": 7,
   "metadata": {},
   "outputs": [
    {
     "name": "stdout",
     "output_type": "stream",
     "text": [
      "21 45 93 "
     ]
    }
   ],
   "source": [
    "\n",
    "list1 = [10, 21, 4, 45, 66, 93]\n",
    "\n",
    "\n",
    "for num in list1:\n",
    "\t# checking condition\n",
    "\tif num % 2 != 0:\n",
    "\t\tprint(num, end=\" \")\n"
   ]
  },
  {
   "cell_type": "markdown",
   "metadata": {},
   "source": [
    "### Q18 Python program to print all even numbers in a range"
   ]
  },
  {
   "cell_type": "code",
   "execution_count": 9,
   "metadata": {},
   "outputs": [
    {
     "name": "stdout",
     "output_type": "stream",
     "text": [
      "2 4 6 8 10 12 14 16 18 20 22 24 26 28 30 32 34 36 38 40 42 44 46 48 50 "
     ]
    }
   ],
   "source": [
    "start = int(input(\"Enter the start of range: \"))\n",
    "end = int(input(\"Enter the end of range: \"))\n",
    "\n",
    "for num in range(start, end + 1):\n",
    "\n",
    "\t# checking condition\n",
    "\tif num % 2 == 0:\n",
    "\t\tprint(num, end=\" \")\n"
   ]
  },
  {
   "cell_type": "markdown",
   "metadata": {},
   "source": [
    "### Q19 Python program to print all odd numbers in a range\n"
   ]
  },
  {
   "cell_type": "code",
   "execution_count": 10,
   "metadata": {},
   "outputs": [
    {
     "name": "stdout",
     "output_type": "stream",
     "text": [
      "3 5 7 9 11 13 15 17 19 21 23 25 27 29 31 33 35 37 39 41 43 45 47 49 "
     ]
    }
   ],
   "source": [
    "start = int(input(\"Enter the start of range: \"))\n",
    "end = int(input(\"Enter the end of range: \"))\n",
    "\n",
    "for num in range(start, end + 1):\n",
    "\n",
    "\t# checking condition\n",
    "\tif num % 2 != 0:\n",
    "\t\tprint(num, end=\" \")\n"
   ]
  },
  {
   "cell_type": "markdown",
   "metadata": {},
   "source": [
    "### Q20 Python program to count Even and Odd numbers in a List"
   ]
  },
  {
   "cell_type": "code",
   "execution_count": 11,
   "metadata": {},
   "outputs": [
    {
     "name": "stdout",
     "output_type": "stream",
     "text": [
      "Even numbers in the list:  3\n",
      "Odd numbers in the list:  4\n"
     ]
    }
   ],
   "source": [
    "\n",
    "list1 = [10, 21, 4, 45, 66, 93, 1]\n",
    "\n",
    "even_count, odd_count = 0, 0\n",
    "\n",
    "# iterating each number in list\n",
    "for num in list1:\n",
    "\n",
    "\t# checking condition\n",
    "\tif num % 2 == 0:\n",
    "\t\teven_count += 1\n",
    "\n",
    "\telse:\n",
    "\t\todd_count += 1\n",
    "\n",
    "print(\"Even numbers in the list: \", even_count)\n",
    "print(\"Odd numbers in the list: \", odd_count)\n"
   ]
  },
  {
   "cell_type": "markdown",
   "metadata": {},
   "source": [
    "### Q21 Python program to print positive numbers in a list"
   ]
  },
  {
   "cell_type": "code",
   "execution_count": 12,
   "metadata": {},
   "outputs": [
    {
     "name": "stdout",
     "output_type": "stream",
     "text": [
      "2  6  22  34  "
     ]
    }
   ],
   "source": [
    "list = [2,-4,6,-10,22,34]\n",
    "\n",
    "for i in list:\n",
    "\n",
    "    if i >= 0:\n",
    "\n",
    "        print(i,' ' ,end='')"
   ]
  },
  {
   "cell_type": "markdown",
   "metadata": {},
   "source": [
    "### Q22 Python program to print negative numbers in a list"
   ]
  },
  {
   "cell_type": "code",
   "execution_count": 16,
   "metadata": {},
   "outputs": [
    {
     "name": "stdout",
     "output_type": "stream",
     "text": [
      "-4  -10  "
     ]
    }
   ],
   "source": [
    "list = [2,-4,6,-10,22,34]\n",
    "\n",
    "for i in list:\n",
    "\n",
    "    if i < 0:\n",
    "\n",
    "        print(i,' ' ,end='')"
   ]
  },
  {
   "cell_type": "markdown",
   "metadata": {},
   "source": [
    "### Q23 Python program to print all positive numbers in a range"
   ]
  },
  {
   "cell_type": "code",
   "execution_count": 14,
   "metadata": {},
   "outputs": [
    {
     "name": "stdout",
     "output_type": "stream",
     "text": [
      "0 1 2 3 4 5 6 7 8 9 10 11 12 13 14 15 16 17 18 19 "
     ]
    }
   ],
   "source": [
    "\n",
    "\n",
    "start, end = -4, 19\n",
    "\n",
    "# iterating each number in list\n",
    "for num in range(start, end + 1):\n",
    "\n",
    "\t# checking condition\n",
    "\tif num >= 0:\n",
    "\t\tprint(num, end=\" \")\n"
   ]
  },
  {
   "cell_type": "markdown",
   "metadata": {},
   "source": [
    "### Q24 Python program to print all negative numbers in a range"
   ]
  },
  {
   "cell_type": "code",
   "execution_count": 15,
   "metadata": {},
   "outputs": [
    {
     "name": "stdout",
     "output_type": "stream",
     "text": [
      "-4 -3 -2 -1 "
     ]
    }
   ],
   "source": [
    "\n",
    "\n",
    "start, end = -4, 19\n",
    "\n",
    "# iterating each number in list\n",
    "for num in range(start, end + 1):\n",
    "\n",
    "\t# checking condition\n",
    "\tif num < 0:\n",
    "\t\tprint(num, end=\" \")\n"
   ]
  },
  {
   "cell_type": "markdown",
   "metadata": {},
   "source": [
    "### Q25 Python program to count positive and negative numbers in a list"
   ]
  },
  {
   "cell_type": "code",
   "execution_count": 17,
   "metadata": {},
   "outputs": [
    {
     "name": "stdout",
     "output_type": "stream",
     "text": [
      "Positive numbers in the list:  4\n",
      "Negative numbers in the list:  3\n"
     ]
    }
   ],
   "source": [
    "\n",
    "list1 = [10, -21, 4, -45, 66, -93, 1]\n",
    "\n",
    "pos_count, neg_count = 0, 0\n",
    "\n",
    "# iterating each number in list\n",
    "for num in list1:\n",
    "\n",
    "\t# checking condition\n",
    "\tif num >= 0:\n",
    "\t\tpos_count += 1\n",
    "\n",
    "\telse:\n",
    "\t\tneg_count += 1\n",
    "\n",
    "print(\"Positive numbers in the list: \", pos_count)\n",
    "print(\"Negative numbers in the list: \", neg_count)\n"
   ]
  },
  {
   "cell_type": "markdown",
   "metadata": {},
   "source": [
    "### Q26 Remove multiple elements from a list in Python"
   ]
  },
  {
   "cell_type": "code",
   "execution_count": 18,
   "metadata": {},
   "outputs": [
    {
     "name": "stdout",
     "output_type": "stream",
     "text": [
      "New list after removing all even numbers:  [11, 5, 17, 23]\n"
     ]
    }
   ],
   "source": [
    "list1 = [11, 5, 17, 18, 23, 50]\n",
    "\n",
    "# Iterate each element in list\n",
    "# and add them in variable total\n",
    "for ele in list1:\n",
    "\tif ele % 2 == 0:\n",
    "\t\tlist1.remove(ele)\n",
    "\n",
    "# printing modified list\n",
    "print(\"New list after removing all even numbers: \", list1)\n"
   ]
  },
  {
   "cell_type": "markdown",
   "metadata": {},
   "source": [
    "### Q27 Python | Remove empty tuples from a list"
   ]
  },
  {
   "cell_type": "code",
   "execution_count": 19,
   "metadata": {},
   "outputs": [
    {
     "name": "stdout",
     "output_type": "stream",
     "text": [
      "[('ram', '15', '8'), ('laxman', 'sita'), ('krishna', 'akbar', '45'), ('', '')]\n"
     ]
    }
   ],
   "source": [
    "def Remove(tuples):\n",
    "\tfor i in tuples:\n",
    "\t\tif(len(i) == 0):\n",
    "\t\t\ttuples.remove(i)\n",
    "\treturn tuples\n",
    "\n",
    "\n",
    "# Driver Code\n",
    "tuples = [(), ('ram', '15', '8'), (), ('laxman', 'sita'),\n",
    "\t\t('krishna', 'akbar', '45'), ('', ''), ()]\n",
    "print(Remove(tuples))\n"
   ]
  },
  {
   "cell_type": "markdown",
   "metadata": {},
   "source": [
    "### Q28 Python | Program to print duplicates from a list of integers"
   ]
  },
  {
   "cell_type": "code",
   "execution_count": 20,
   "metadata": {},
   "outputs": [
    {
     "name": "stdout",
     "output_type": "stream",
     "text": [
      "[1, 2, 5, 9]\n"
     ]
    }
   ],
   "source": [
    "\n",
    "lis = [1, 2, 1, 2, 3, 4, 5, 1, 1, 2, 5, 6, 7, 8, 9, 9]\n",
    "\n",
    "uniqueList = []\n",
    "duplicateList = []\n",
    "\n",
    "for i in lis:\n",
    "\tif i not in uniqueList:\n",
    "\t\tuniqueList.append(i)\n",
    "\telif i not in duplicateList:\n",
    "\t\tduplicateList.append(i)\n",
    "\n",
    "print(duplicateList)\n"
   ]
  },
  {
   "cell_type": "markdown",
   "metadata": {},
   "source": [
    "### Q 29 Remove empty List from List"
   ]
  },
  {
   "cell_type": "code",
   "execution_count": 21,
   "metadata": {},
   "outputs": [
    {
     "name": "stdout",
     "output_type": "stream",
     "text": [
      "The original list is : [5, 6, [], 3, [], [], 9]\n",
      "List after empty list removal : [5, 6, 3, 9]\n"
     ]
    }
   ],
   "source": [
    "\n",
    "def empty_list_remove(input_list):\n",
    "\tnew_list = []\n",
    "\tfor ele in input_list:\n",
    "\t\tif ele:\n",
    "\t\t\tnew_list.append(ele)\n",
    "\treturn new_list\n",
    "\n",
    "\n",
    "# input list values\n",
    "input_list = [5, 6, [], 3, [], [], 9]\n",
    "\n",
    "# print initial list values\n",
    "print(f\"The original list is : {input_list}\")\n",
    "# function-call & print values\n",
    "print(f\"List after empty list removal : {empty_list_remove(input_list)}\")\n"
   ]
  },
  {
   "cell_type": "markdown",
   "metadata": {},
   "source": [
    "### Q 30 Python | Uncommon elements in Lists of List"
   ]
  },
  {
   "cell_type": "code",
   "execution_count": 26,
   "metadata": {},
   "outputs": [
    {
     "name": "stdout",
     "output_type": "stream",
     "text": [
      "The original list 1 : [[1, 2], [3, 4], [5, 6]]\n",
      "The original list 2 : [[3, 4], [5, 7], [1, 2]]\n",
      "The uncommon of two lists is : [[5, 6], [5, 7]]\n"
     ]
    }
   ],
   "source": [
    "\n",
    "test_list1 = [ [1, 2], [3, 4], [5, 6] ]\n",
    "test_list2 = [ [3, 4], [5, 7], [1, 2] ]\n",
    "\n",
    "# printing both lists\n",
    "print (\"The original list 1 : \" + str(test_list1))\n",
    "print (\"The original list 2 : \" + str(test_list2))\n",
    "\n",
    "# using naive method\n",
    "# Uncommon elements in List\n",
    "res_list = []\n",
    "for i in test_list1:\n",
    "\tif i not in test_list2:\n",
    "\t\tres_list.append(i)\n",
    "for i in test_list2:\n",
    "\tif i not in test_list1:\n",
    "\t\tres_list.append(i)\n",
    "\t\t\n",
    "# printing the uncommon\n",
    "print (\"The uncommon of two lists is : \" + str(res_list))\n"
   ]
  },
  {
   "cell_type": "markdown",
   "metadata": {},
   "source": [
    "### Q 31 Python program to select Random value from list of lists"
   ]
  },
  {
   "cell_type": "code",
   "execution_count": 27,
   "metadata": {},
   "outputs": [
    {
     "name": "stdout",
     "output_type": "stream",
     "text": [
      "Original list is : [1, 4, 5, 2, 7]\n",
      "Random selected number is : 2\n"
     ]
    }
   ],
   "source": [
    "import random\n",
    "\n",
    "# initializing list\n",
    "test_list = [1, 4, 5, 2, 7]\n",
    "\n",
    "# printing original list\n",
    "print(\"Original list is : \" + str(test_list))\n",
    "\n",
    "# using random.choice() to\n",
    "# get a random number\n",
    "random_num = random.choice(test_list)\n",
    "\n",
    "# printing random number\n",
    "print(\"Random selected number is : \" + str(random_num))\n"
   ]
  },
  {
   "cell_type": "markdown",
   "metadata": {},
   "source": [
    "### Q32 Python – Reverse Row sort in Lists of List"
   ]
  },
  {
   "cell_type": "code",
   "execution_count": 28,
   "metadata": {},
   "outputs": [
    {
     "name": "stdout",
     "output_type": "stream",
     "text": [
      "The original list is : [[4, 1, 6], [7, 8], [4, 10, 8]]\n",
      "The reverse sorted Matrix is : [[6, 4, 1], [8, 7], [10, 8, 4]]\n"
     ]
    }
   ],
   "source": [
    "\n",
    "test_list = [[4, 1, 6], [7, 8], [4, 10, 8]]\n",
    "\n",
    "# printing original list\n",
    "print(\"The original list is : \" + str(test_list))\n",
    "\n",
    "# Reverse Row sort in Lists of List\n",
    "\n",
    "for ele in test_list:\n",
    "\tele.sort(reverse=True)\n",
    "\n",
    "# printing result\n",
    "print(\"The reverse sorted Matrix is : \" + str(test_list))\n"
   ]
  },
  {
   "cell_type": "markdown",
   "metadata": {},
   "source": [
    "### Q33 Python – Pair elements with Rear element in Matrix Row"
   ]
  },
  {
   "cell_type": "code",
   "execution_count": 29,
   "metadata": {},
   "outputs": [
    {
     "name": "stdout",
     "output_type": "stream",
     "text": [
      "The original list is : [[4, 5, 6], [2, 4, 5], [6, 7, 5]]\n",
      "The list after pairing is : [[[4, 6], [5, 6]], [[2, 5], [4, 5]], [[6, 5], [7, 5]]]\n"
     ]
    }
   ],
   "source": [
    "\n",
    "test_list = [[4, 5, 6], [2, 4, 5], [6, 7, 5]]\n",
    "\n",
    "# printing original list\n",
    "print(\"The original list is : \" + str(test_list))\n",
    "\n",
    "# Pair elements with Rear element in Matrix Row\n",
    "\n",
    "res = []\n",
    "for sub in test_list:\n",
    "\tres.append([[ele, sub[-1]] for ele in sub[:-1]])\n",
    "\t\n",
    "# printing result\n",
    "print (\"The list after pairing is : \" + str(res))\n"
   ]
  },
  {
   "cell_type": "markdown",
   "metadata": {},
   "source": [
    "### Q34 Python Program to count unique values inside a list"
   ]
  },
  {
   "cell_type": "code",
   "execution_count": 30,
   "metadata": {},
   "outputs": [
    {
     "name": "stdout",
     "output_type": "stream",
     "text": [
      "No of unique items are: 5\n"
     ]
    }
   ],
   "source": [
    "\n",
    "input_list = [1, 2, 2, 5, 8, 4, 4, 8]\n",
    "\n",
    "l1 = []\n",
    "\n",
    "count = 0\n",
    "\n",
    "for item in input_list:\n",
    "\tif item not in l1:\n",
    "\t\tcount += 1\n",
    "\t\tl1.append(item)\n",
    "\n",
    "# printing the output\n",
    "print(\"No of unique items are:\", count)\n"
   ]
  },
  {
   "cell_type": "markdown",
   "metadata": {},
   "source": [
    "### Q35 Python – List product excluding duplicates"
   ]
  },
  {
   "cell_type": "code",
   "execution_count": 31,
   "metadata": {},
   "outputs": [
    {
     "name": "stdout",
     "output_type": "stream",
     "text": [
      "The original list is : [1, 3, 5, 6, 3, 5, 6, 1]\n",
      "Duplication removal list product : 90\n"
     ]
    }
   ],
   "source": [
    "\n",
    "def prod(val):\n",
    "\tres = 1\n",
    "\tfor ele in val:\n",
    "\t\tres *= ele\n",
    "\treturn res\n",
    "\n",
    "\n",
    "# initializing list\n",
    "test_list = [1, 3, 5, 6, 3, 5, 6, 1]\n",
    "print(\"The original list is : \" + str(test_list))\n",
    "\n",
    "\n",
    "# Duplication Removal List Product\n",
    "res = []\n",
    "for i in test_list:\n",
    "\tif i not in res:\n",
    "\t\tres.append(i)\n",
    "res = prod(res)\n",
    "\n",
    "# printing list after removal\n",
    "print(\"Duplication removal list product : \" + str(res))\n"
   ]
  },
  {
   "cell_type": "markdown",
   "metadata": {},
   "source": [
    "### Q36 Python – Extract elements with Frequency greater than K"
   ]
  },
  {
   "cell_type": "code",
   "execution_count": 32,
   "metadata": {},
   "outputs": [
    {
     "name": "stdout",
     "output_type": "stream",
     "text": [
      "The original list : [4, 6, 4, 3, 3, 4, 3, 7, 8, 8]\n",
      "The required elements : [4, 3]\n"
     ]
    }
   ],
   "source": [
    "test_list = [4, 6, 4, 3, 3, 4, 3, 7, 8, 8]\n",
    "\n",
    "\n",
    "print(\"The original list : \" + str(test_list))\n",
    "\n",
    "# initializing K\n",
    "K = 2\n",
    "\n",
    "res = []\n",
    "for i in test_list:\n",
    "\t\n",
    "\t# using count() to get count of elements\n",
    "\tfreq = test_list.count(i)\n",
    "\t\n",
    "\t# checking if not already entered in results\n",
    "\tif freq > K and i not in res:\n",
    "\t\tres.append(i)\n",
    "\n",
    "# printing results\n",
    "print(\"The required elements : \" + str(res))\n"
   ]
  },
  {
   "cell_type": "markdown",
   "metadata": {},
   "source": [
    "### Q37 Python – Test if List contains elements in Range"
   ]
  },
  {
   "cell_type": "code",
   "execution_count": 33,
   "metadata": {},
   "outputs": [
    {
     "name": "stdout",
     "output_type": "stream",
     "text": [
      "The original list is : [4, 5, 6, 7, 3, 9]\n",
      "Does list contain all elements in range : True\n"
     ]
    }
   ],
   "source": [
    "test_list = [4, 5, 6, 7, 3, 9]\n",
    "\n",
    "# printing original list\n",
    "print(\"The original list is : \" + str(test_list))\n",
    "\n",
    "# Initialization of range\n",
    "i, j = 3, 10\n",
    "\n",
    "# Test if List contains elements in Range\n",
    "\n",
    "res = True\n",
    "for ele in test_list:\n",
    "\tif ele < i or ele >= j :\n",
    "\t\tres = False\n",
    "\t\tbreak\n",
    "\n",
    "# printing result\n",
    "print (\"Does list contain all elements in range : \" + str(res))\n"
   ]
  },
  {
   "cell_type": "markdown",
   "metadata": {},
   "source": [
    "### Q38 Python program to check if the list contains three consecutive common numbers in Python"
   ]
  },
  {
   "cell_type": "code",
   "execution_count": 34,
   "metadata": {},
   "outputs": [
    {
     "name": "stdout",
     "output_type": "stream",
     "text": [
      "5\n"
     ]
    }
   ],
   "source": [
    "\n",
    "arr = [4, 5, 5, 5, 3, 8]\n",
    "\n",
    "\n",
    "size = len(arr)\n",
    "\n",
    "# looping till length - 2\n",
    "for i in range(size - 2):\n",
    "\n",
    "\t# checking the conditions\n",
    "\tif arr[i] == arr[i + 1] and arr[i + 1] == arr[i + 2]:\n",
    "\n",
    "\t\tprint(arr[i])\n"
   ]
  },
  {
   "cell_type": "markdown",
   "metadata": {},
   "source": [
    "### Q39 Python program to find the Strongest Neighbour"
   ]
  },
  {
   "cell_type": "code",
   "execution_count": 35,
   "metadata": {},
   "outputs": [
    {
     "name": "stdout",
     "output_type": "stream",
     "text": [
      "2 2 3 4 5 "
     ]
    }
   ],
   "source": [
    "\n",
    "def maximumAdjacent(arr1, n):\n",
    "\n",
    "\t\n",
    "\tarr2 = []\n",
    "\t\n",
    "\t# iterate from 1 to n - 1\n",
    "\tfor i in range(1, n):\n",
    "\t\n",
    "\t\t\n",
    "\t\t# stored in r\n",
    "\t\tr = max(arr1[i], arr1[i-1])\n",
    "\t\t\n",
    "\t\n",
    "\t\tarr2.append(r)\n",
    "\t\t\n",
    "\t\n",
    "\tfor ele in arr2 :\n",
    "\t\tprint(ele,end=\" \")\n",
    "\n",
    "n = 6\n",
    "\n",
    "# input array\n",
    "arr1 = [1,2,2,3,4,5]\n",
    "\n",
    "# function calling\n",
    "maximumAdjacent(arr1, n)\n"
   ]
  },
  {
   "cell_type": "markdown",
   "metadata": {},
   "source": [
    "### Q40 Python Program to print all Possible Combinations from the three Digits"
   ]
  },
  {
   "cell_type": "code",
   "execution_count": 36,
   "metadata": {},
   "outputs": [
    {
     "name": "stdout",
     "output_type": "stream",
     "text": [
      "1 2 3\n",
      "1 3 2\n",
      "2 1 3\n",
      "2 3 1\n",
      "3 1 2\n",
      "3 2 1\n"
     ]
    }
   ],
   "source": [
    "def comb(L):\n",
    "\t\n",
    "\tfor i in range(3):\n",
    "\t\tfor j in range(3):\n",
    "\t\t\tfor k in range(3):\n",
    "\t\t\t\t\n",
    "\t\t\t\t# check if the indexes are not\n",
    "\t\t\t\t# same\n",
    "\t\t\t\tif (i!=j and j!=k and i!=k):\n",
    "\t\t\t\t\tprint(L[i], L[j], L[k])\n",
    "\t\t\t\t\t\n",
    "# Driver Code\n",
    "comb([1, 2, 3])\n"
   ]
  },
  {
   "cell_type": "markdown",
   "metadata": {},
   "source": [
    "### Q41 Python program to find all the Combinations in the list with the given condition"
   ]
  },
  {
   "cell_type": "code",
   "execution_count": 38,
   "metadata": {},
   "outputs": [
    {
     "name": "stdout",
     "output_type": "stream",
     "text": [
      "Original list:\n",
      "['orange', 'red', 'green', 'blue']\n",
      "\n",
      "All possible combinations of the said list’s elements:\n",
      "[[], ['orange'], ['red'], ['red', 'orange'], ['green'], ['green', 'orange'], ['green', 'red'], ['green', 'red', 'orange'], ['blue'], ['blue', 'orange'], ['blue', 'red'], ['blue', 'red', 'orange'], ['blue', 'green'], ['blue', 'green', 'orange'], ['blue', 'green', 'red'], ['blue', 'green', 'red', 'orange']]\n"
     ]
    }
   ],
   "source": [
    "def combinations_list(colors):\n",
    "    if len(colors) == 0:\n",
    "        return [[]]\n",
    "    result = []\n",
    "    for el in combinations_list(colors[1:]):\n",
    "        result += [el, el+[colors[0]]]\n",
    "    return result\n",
    "colors = ['orange', 'red', 'green', 'blue']\n",
    "print(\"Original list:\")\n",
    "print(colors)\n",
    "print(\"\\nAll possible combinations of the said list’s elements:\")\n",
    "print(combinations_list(colors))\n"
   ]
  },
  {
   "cell_type": "markdown",
   "metadata": {},
   "source": [
    "### Q42 Python program to get all unique combinations of two Lists"
   ]
  },
  {
   "cell_type": "code",
   "execution_count": 39,
   "metadata": {},
   "outputs": [
    {
     "name": "stdout",
     "output_type": "stream",
     "text": [
      "[('b', 1), ('b', 4), ('b', 9), ('c', 1), ('c', 4), ('c', 9), ('d', 1), ('d', 4), ('d', 9)]\n"
     ]
    }
   ],
   "source": [
    "list_1 = [\"b\", \"c\", \"d\"]\n",
    "list_2 = [1, 4, 9]\n",
    "\n",
    "unique_combinations = []\n",
    "\n",
    "for i in range(len(list_1)):\n",
    "\tfor j in range(len(list_2)):\n",
    "\t\tunique_combinations.append((list_1[i], list_2[j]))\n",
    "\n",
    "print(unique_combinations)\n"
   ]
  },
  {
   "cell_type": "markdown",
   "metadata": {},
   "source": [
    "### Q43 Python program to remove all the occurrences of an element from a list"
   ]
  },
  {
   "cell_type": "code",
   "execution_count": 40,
   "metadata": {},
   "outputs": [
    {
     "name": "stdout",
     "output_type": "stream",
     "text": [
      "The original list is :[1, 3, 4, 6, 5, 1]\n",
      "The list after performing the remove operation is :[3, 4, 6, 5]\n"
     ]
    }
   ],
   "source": [
    "\n",
    "def remove_items(test_list, item):\n",
    "\n",
    "\t# remove the item for all its occurrences\n",
    "\tc = test_list.count(item)\n",
    "\tfor i in range(c):\n",
    "\t\ttest_list.remove(item)\n",
    "\n",
    "\treturn test_list\n",
    "\n",
    "\n",
    "\n",
    "test_list = [1, 3, 4, 6, 5, 1]\n",
    "\n",
    "# the item which is to be removed\n",
    "item = 1\n",
    "\n",
    "\n",
    "print(\"The original list is :\" + str(test_list))\n",
    "\n",
    "\n",
    "res = remove_items(test_list, item)\n",
    "\n",
    "# printing result\n",
    "print(\"The list after performing the remove operation is :\" + str(res))\n"
   ]
  },
  {
   "cell_type": "markdown",
   "metadata": {},
   "source": [
    "### Q44 Python – Remove Consecutive K element records"
   ]
  },
  {
   "cell_type": "code",
   "execution_count": 41,
   "metadata": {},
   "outputs": [
    {
     "name": "stdout",
     "output_type": "stream",
     "text": [
      "The original list is : [(4, 5, 6, 3), (5, 6, 6, 9), (1, 3, 5, 6), (6, 6, 7, 8)]\n",
      "The records after removal : [(4, 5, 6, 3), (1, 3, 5, 6)]\n"
     ]
    }
   ],
   "source": [
    "\n",
    "test_list = [(4, 5, 6, 3), (5, 6, 6, 9), (1, 3, 5, 6), (6, 6, 7, 8)]\n",
    "\n",
    "\n",
    "print(\"The original list is : \" + str(test_list))\n",
    "\n",
    "# initializing K\n",
    "K = 6\n",
    "\n",
    "\n",
    "res = [idx for idx in test_list if (K, K) not in zip(idx, idx[1:])]\n",
    "\n",
    "# printing result\n",
    "print(\"The records after removal : \" + str(res))\n"
   ]
  },
  {
   "cell_type": "markdown",
   "metadata": {},
   "source": [
    "### Q45 Python – Replace index elements with elements in Other List"
   ]
  },
  {
   "cell_type": "code",
   "execution_count": 42,
   "metadata": {},
   "outputs": [
    {
     "name": "stdout",
     "output_type": "stream",
     "text": [
      "The original list 1 is : ['Gfg', 'is', 'best']\n",
      "The original list 2 is : [0, 1, 2, 1, 0, 0, 0, 2, 1, 1, 2, 0]\n",
      "The lists after index elements replacements is : ['Gfg', 'is', 'best', 'is', 'Gfg', 'Gfg', 'Gfg', 'best', 'is', 'is', 'best', 'Gfg']\n"
     ]
    }
   ],
   "source": [
    "\n",
    "test_list1 = ['Gfg', 'is', 'best']\n",
    "test_list2 = [0, 1, 2, 1, 0, 0, 0, 2, 1, 1, 2, 0]\n",
    "\n",
    "\n",
    "print(\"The original list 1 is : \" + str(test_list1))\n",
    "print(\"The original list 2 is : \" + str(test_list2))\n",
    "\n",
    "# Replace index elements with elements in Other List\n",
    "\n",
    "res = [test_list1[idx] for idx in test_list2]\n",
    "\t\t\t\n",
    "# printing result\n",
    "print (\"The lists after index elements replacements is : \" + str(res))\n"
   ]
  },
  {
   "cell_type": "markdown",
   "metadata": {},
   "source": [
    "### Q46 Python Program to Retain records with N occurrences of K"
   ]
  },
  {
   "cell_type": "code",
   "execution_count": 43,
   "metadata": {},
   "outputs": [
    {
     "name": "stdout",
     "output_type": "stream",
     "text": [
      "The original list is : [(4, 5, 6, 4, 4), (4, 4, 3), (4, 4, 4), (3, 4, 9)]\n",
      "Filtered tuples : [(4, 5, 6, 4, 4), (4, 4, 4)]\n"
     ]
    }
   ],
   "source": [
    "\n",
    "test_list = [(4, 5, 6, 4, 4), (4, 4, 3), (4, 4, 4), (3, 4, 9)]\n",
    "\n",
    "\n",
    "print(\"The original list is : \" + str(test_list))\n",
    "\n",
    "# initializing K\n",
    "K = 4\n",
    "\n",
    "# initializing N\n",
    "N = 3\n",
    "\n",
    "# Retain records with N occurrences of K\n",
    "\n",
    "res = [ele for ele in test_list if ele.count(K) == N]\n",
    "\n",
    "# printing result\n",
    "print(\"Filtered tuples : \" + str(res))\n"
   ]
  },
  {
   "cell_type": "markdown",
   "metadata": {},
   "source": [
    "### Q47 Python Program to Sort the list according to the column using lambda"
   ]
  },
  {
   "cell_type": "code",
   "execution_count": 44,
   "metadata": {},
   "outputs": [
    {
     "name": "stdout",
     "output_type": "stream",
     "text": [
      "Sorted array specific to column 0, \t\t[['c++', 1983], ['java', 1995], ['python', 1989]]\n",
      "Sorted array specific to column 1, \t\t[['c++', 1983], ['python', 1989], ['java', 1995]]\n"
     ]
    }
   ],
   "source": [
    "\n",
    "def sortarray(array):\n",
    "\t\n",
    "\tfor i in range(len(array[0])):\n",
    "\t\t\n",
    "\t\n",
    "\t\tsortedcolumn = sorted(array, key = lambda x:x[i])\n",
    "\t\t\n",
    "\t\t# After sorting array Column 1\n",
    "\t\tprint(\"Sorted array specific to column {}, \\\n",
    "\t\t{}\".format(i, sortedcolumn))\n",
    "\t\n",
    "\n",
    "\t\n",
    "# array of size 3 X 2\n",
    "array = [['java', 1995], ['c++', 1983],\n",
    "\t\t\t['python', 1989]]\n",
    "\t\n",
    "# passing array in sortarray function\n",
    "sortarray(array)\n"
   ]
  },
  {
   "cell_type": "markdown",
   "metadata": {},
   "source": [
    "### Q48 Python – Swap elements in String list"
   ]
  },
  {
   "cell_type": "code",
   "execution_count": 45,
   "metadata": {},
   "outputs": [
    {
     "name": "stdout",
     "output_type": "stream",
     "text": [
      "The original list is : ['Gfg', 'is', 'best', 'for', 'Geeks']\n",
      "List after performing character swaps : ['efg', 'is', 'bGst', 'for', 'eGGks']\n"
     ]
    }
   ],
   "source": [
    "\n",
    "test_list = ['Gfg', 'is', 'best', 'for', 'Geeks']\n",
    "\n",
    "# printing original lists\n",
    "print(\"The original list is : \" + str(test_list))\n",
    "\n",
    "\n",
    "res = [sub.replace('G', '-').replace('e', 'G').replace('-', 'e') for sub in test_list]\n",
    "\n",
    "# printing result\n",
    "print (\"List after performing character swaps : \" + str(res))\n"
   ]
  },
  {
   "cell_type": "markdown",
   "metadata": {},
   "source": [
    "### Q49 Python program to reverse All Strings in String List"
   ]
  },
  {
   "cell_type": "code",
   "execution_count": 46,
   "metadata": {},
   "outputs": [
    {
     "name": "stdout",
     "output_type": "stream",
     "text": [
      "The original list is : ['geeks', 'for', 'geeks', 'is', 'best']\n",
      "The reversed string list is : ['skeeg', 'rof', 'skeeg', 'si', 'tseb']\n"
     ]
    }
   ],
   "source": [
    "\n",
    "test_list = [\"geeks\", \"for\", \"geeks\", \"is\", \"best\"]\n",
    "\n",
    "# printing original list\n",
    "print (\"The original list is : \" + str(test_list))\n",
    "\n",
    "\n",
    "res = [i[::-1] for i in test_list]\n",
    "\n",
    "# printing result\n",
    "print (\"The reversed string list is : \" + str(res))\n"
   ]
  },
  {
   "cell_type": "markdown",
   "metadata": {},
   "source": [
    "### Q50 Python program to find the character position of Kth word from a list of strings\n"
   ]
  },
  {
   "cell_type": "code",
   "execution_count": 47,
   "metadata": {},
   "outputs": [
    {
     "name": "stdout",
     "output_type": "stream",
     "text": [
      "The original list is : ['geekforgeeks', 'is', 'best', 'for', 'geeks']\n",
      "Index of character at Kth position word : 2\n"
     ]
    }
   ],
   "source": [
    "\n",
    "test_list = [\"geekforgeeks\", \"is\", \"best\", \"for\", \"geeks\"]\n",
    "\n",
    "# printing original list\n",
    "print(\"The original list is : \" + str(test_list))\n",
    "\n",
    "# initializing K\n",
    "K = 20\n",
    "\n",
    "# enumerate to get indices of all inner and outer list\n",
    "res = [ele[0] for sub in enumerate(test_list) for ele in enumerate(sub[1])]\n",
    "\n",
    "\n",
    "res = res[K]\n",
    "\n",
    "# printing result\n",
    "print(\"Index of character at Kth position word : \" + str(res))\n"
   ]
  },
  {
   "cell_type": "markdown",
   "metadata": {},
   "source": [
    "### Q55 Python – Extract words starting with K in String List"
   ]
  },
  {
   "cell_type": "code",
   "execution_count": 48,
   "metadata": {},
   "outputs": [
    {
     "name": "stdout",
     "output_type": "stream",
     "text": [
      "The original list is : ['Gfg is best', 'Gfg is for geeks', 'I love G4G']\n",
      "The filtered elements : ['Gfg', 'Gfg', 'geeks', 'G4G']\n"
     ]
    }
   ],
   "source": [
    "\n",
    "test_list = [\"Gfg is best\", \"Gfg is for geeks\", \"I love G4G\"]\n",
    "\n",
    "# printing original list\n",
    "print(\"The original list is : \" + str(test_list))\n",
    "\n",
    "\n",
    "K = \"g\"\n",
    "\n",
    "res = []\n",
    "for sub in test_list:\n",
    "\t\n",
    "\ttemp = sub.split()\n",
    "\tfor ele in temp:\n",
    "\n",
    "\t\t# checking for matching elements\n",
    "\t\tif ele[0].lower() == K.lower():\n",
    "\t\t\tres.append(ele)\n",
    "\n",
    "# printing result\n",
    "print(\"The filtered elements : \" + str(res))\n"
   ]
  },
  {
   "cell_type": "markdown",
   "metadata": {},
   "source": [
    "### Q56 Python – Prefix frequency in string List"
   ]
  },
  {
   "cell_type": "code",
   "execution_count": 49,
   "metadata": {},
   "outputs": [
    {
     "name": "stdout",
     "output_type": "stream",
     "text": [
      "The original list is : ['gfgisbest', 'geeks', 'gfgfreak', 'gfgCS', 'Gcourses']\n",
      "Strings count with matching frequency : 3\n"
     ]
    }
   ],
   "source": [
    "\n",
    "test_list = ['gfgisbest', 'geeks', 'gfgfreak', 'gfgCS', 'Gcourses']\n",
    "\n",
    "# printing original list\n",
    "print(\"The original list is : \" + str(test_list))\n",
    "\n",
    "# Initializing substring\n",
    "test_sub = 'gfg'\n",
    "\n",
    "\n",
    "res = 0\n",
    "for ele in test_list:\n",
    "\tif ele.startswith(test_sub):\n",
    "\t\tres = res + 1\n",
    "\n",
    "# printing result\n",
    "print(\"Strings count with matching frequency : \" + str(res))\n"
   ]
  },
  {
   "cell_type": "markdown",
   "metadata": {},
   "source": [
    "### Q57 Python – Split String of list on K character"
   ]
  },
  {
   "cell_type": "code",
   "execution_count": 50,
   "metadata": {},
   "outputs": [
    {
     "name": "stdout",
     "output_type": "stream",
     "text": [
      "The original list is : ['Gfg is best', 'for Geeks', 'Preparing']\n",
      "The extended list after split strings : ['Gfg', 'is', 'best', 'for', 'Geeks', 'Preparing']\n"
     ]
    }
   ],
   "source": [
    "\n",
    "test_list = ['Gfg is best', 'for Geeks', 'Preparing']\n",
    "\n",
    "# printing original list\n",
    "print(\"The original list is : \" + str(test_list))\n",
    "\n",
    "K = ' '\n",
    "\n",
    "res = []\n",
    "for ele in test_list:\n",
    "\tsub = ele.split(K)\n",
    "\tres.extend(sub)\n",
    "\n",
    "# printing result\n",
    "print (\"The extended list after split strings : \" + str(res))\n"
   ]
  },
  {
   "cell_type": "markdown",
   "metadata": {},
   "source": [
    "### Q58 Python – Split Strings on Prefix Occurrence"
   ]
  },
  {
   "cell_type": "code",
   "execution_count": 51,
   "metadata": {},
   "outputs": [
    {
     "name": "stdout",
     "output_type": "stream",
     "text": [
      "The original list is : ['geeksforgeeks', 'best', 'geeks', 'and', 'geeks', 'love', 'CS']\n",
      "Prefix Split List : [['geeksforgeeks', 'best'], ['geeks', 'and'], ['geeks', 'love', 'CS']]\n"
     ]
    }
   ],
   "source": [
    "\n",
    "test_list = [\"geeksforgeeks\", \"best\", \"geeks\", \"and\", \"geeks\", \"love\", \"CS\"]\n",
    "\n",
    "# printing original list\n",
    "print(\"The original list is : \" + str(test_list))\n",
    "\n",
    "# initializing prefix\n",
    "pref = \"geek\"\n",
    "\n",
    "\n",
    "res = []\n",
    "for val in test_list:\n",
    "\t\n",
    "\t# checking for prefix\n",
    "\tif val.startswith(pref):\n",
    "\t\t\n",
    "\t\t# if pref found, start new list\n",
    "\t\tres.append([val])\n",
    "\telse:\n",
    "\t\t\n",
    "\t\t\n",
    "\t\tres[-1].append(val)\n",
    "\n",
    "# printing result\n",
    "print(\"Prefix Split List : \" + str(res))\n"
   ]
  },
  {
   "cell_type": "markdown",
   "metadata": {},
   "source": [
    "### Q59 Python program to Replace all Characters of a List Except the given character"
   ]
  },
  {
   "cell_type": "code",
   "execution_count": 52,
   "metadata": {},
   "outputs": [
    {
     "name": "stdout",
     "output_type": "stream",
     "text": [
      "The original list : ['G', 'F', 'G', 'I', 'S', 'B', 'E', 'S', 'T']\n",
      "List after replacement : ['G', '$', 'G', '$', '$', '$', '$', '$', '$']\n"
     ]
    }
   ],
   "source": [
    "test_list = ['G', 'F', 'G', 'I', 'S', 'B', 'E', 'S', 'T']\n",
    "\n",
    "\n",
    "print(\"The original list : \" + str(test_list))\n",
    "\n",
    "\n",
    "repl_chr = '$'\n",
    "\n",
    "# initializing retain chararter\n",
    "ret_chr = 'G'\n",
    "\n",
    "\n",
    "res = [ele if ele == ret_chr else repl_chr for ele in test_list]\n",
    "\n",
    "# printing result\n",
    "print(\"List after replacement : \" + str(res))\n"
   ]
  },
  {
   "cell_type": "markdown",
   "metadata": {},
   "source": [
    "### Q60 Python – Remove words containing list characters"
   ]
  },
  {
   "cell_type": "code",
   "execution_count": 54,
   "metadata": {},
   "outputs": [
    {
     "name": "stdout",
     "output_type": "stream",
     "text": [
      "The original list is : ['gfg', 'is', 'best', 'for', 'geeks']\n",
      "The character list is : ['g', 'o']\n",
      "The filtered strings are : ['is', 'is', 'best', 'best', 'for']\n"
     ]
    }
   ],
   "source": [
    "\n",
    "\n",
    "test_list = ['gfg', 'is', 'best', 'for', 'geeks']\n",
    "\n",
    "\n",
    "char_list = ['g', 'o']\n",
    "\n",
    "\n",
    "print (\"The original list is : \" + str(test_list))\n",
    "\n",
    "\n",
    "print (\"The character list is : \" + str(char_list))\n",
    "\n",
    "# Remove words containing list characters\n",
    "\n",
    "res=[]\n",
    "\n",
    "for i in test_list:\n",
    "    x=i\n",
    "    for j in char_list:\n",
    "        i=i.replace(j,\"\")\n",
    "        if(len(i)==len(x)):\n",
    "            res.append(i)\n",
    "# printing result\n",
    "print (\"The filtered strings are : \" + str(res))\n"
   ]
  },
  {
   "cell_type": "markdown",
   "metadata": {},
   "source": [
    "### Q61 Python – Ways to remove multiple empty spaces from string List"
   ]
  },
  {
   "cell_type": "code",
   "execution_count": 55,
   "metadata": {},
   "outputs": [
    {
     "name": "stdout",
     "output_type": "stream",
     "text": [
      "The original list is : ['gfg', ' ', ' ', 'is', '\\t\\t ', 'best']\n",
      "List after filtering non-empty strings : ['gfg', 'is', 'best']\n"
     ]
    }
   ],
   "source": [
    "\n",
    "test_list = ['gfg', ' ', ' ', 'is', '\t\t ', 'best']\n",
    "\n",
    "# printing original list\n",
    "print(\"The original list is : \" + str(test_list))\n",
    "\n",
    "\n",
    "# Using loop + strip()\n",
    "res = []\n",
    "for ele in test_list:\n",
    "\tif ele.strip():\n",
    "\t\tres.append(ele)\n",
    "\t\n",
    "# printing result\n",
    "print(\"List after filtering non-empty strings : \" + str(res))\n"
   ]
  },
  {
   "cell_type": "markdown",
   "metadata": {},
   "source": [
    "### Q62 Python – Add Space between Potential Words\n"
   ]
  },
  {
   "cell_type": "code",
   "execution_count": 56,
   "metadata": {},
   "outputs": [
    {
     "name": "stdout",
     "output_type": "stream",
     "text": [
      "The original list : ['gfgBest', 'forGeeks', 'andComputerScience']\n",
      "The space added list of strings : ['gfg Best', 'for Geeks', 'and Computer Science']\n"
     ]
    }
   ],
   "source": [
    "\n",
    "test_list = [\"gfgBest\", \"forGeeks\", \"andComputerScience\"]\n",
    "\n",
    "\n",
    "print(\"The original list : \" + str(test_list))\n",
    "\n",
    "res = []\n",
    "\n",
    "# loop to iterate all strings\n",
    "for ele in test_list:\n",
    "\ttemp = [[]]\n",
    "\tfor char in ele:\n",
    "\t\t\n",
    "\t\t# checking for upper case character\n",
    "\t\tif char.isupper():\n",
    "\t\t\ttemp.append([])\n",
    "\t\t\t\n",
    "\t\t# appending character at latest list\n",
    "\t\ttemp[-1].append(char)\n",
    "\t\n",
    "\t# joining lists after adding space\n",
    "\tres.append(' '.join(''.join(ele) for ele in temp))\n",
    "\n",
    "# printing result\n",
    "print(\"The space added list of strings : \" + str(res))\n"
   ]
  },
  {
   "cell_type": "markdown",
   "metadata": {},
   "source": [
    "### Q63 Python – Filter the List of String whose index in second List contains the given Substring"
   ]
  },
  {
   "cell_type": "code",
   "execution_count": 57,
   "metadata": {},
   "outputs": [
    {
     "name": "stdout",
     "output_type": "stream",
     "text": [
      "The original list 1 is : ['Gfg', 'is', 'not', 'best', 'and', 'not', 'for', 'CS']\n",
      "The original list 2 is : ['Its ok', 'all ok', 'wrong', 'looks ok', 'ok', 'wrong', 'ok', 'thats ok']\n",
      "The extracted list : ['Gfg', 'is', 'best', 'and', 'for', 'CS']\n"
     ]
    }
   ],
   "source": [
    "\n",
    "test_list1 = [\"Gfg\", \"is\", \"not\", \"best\", \"and\",\n",
    "\t\t\t\"not\", \"for\", \"CS\"]\n",
    "test_list2 = [\"Its ok\", \"all ok\", \"wrong\", \"looks ok\",\n",
    "\t\t\t\"ok\", \"wrong\", \"ok\", \"thats ok\"]\n",
    "\n",
    "# printing original lists\n",
    "print(\"The original list 1 is : \" + str(test_list1))\n",
    "print(\"The original list 2 is : \" + str(test_list2))\n",
    "\n",
    "# initializing substr\n",
    "sub_str = \"ok\"\n",
    "\n",
    "res = []\n",
    "# using zip() to map by index\n",
    "for ele1, ele2 in zip(test_list1, test_list2):\n",
    "\n",
    "\t# checking for substring\n",
    "\tif sub_str in ele2:\n",
    "\t\tres.append(ele1)\n",
    "\n",
    "# printing result\n",
    "print(\"The extracted list : \" + str(res))\n"
   ]
  },
  {
   "cell_type": "markdown",
   "metadata": {},
   "source": [
    "### Q64 Python | Convert Character Matrix to single String"
   ]
  },
  {
   "cell_type": "code",
   "execution_count": 58,
   "metadata": {},
   "outputs": [
    {
     "name": "stdout",
     "output_type": "stream",
     "text": [
      "The original list is : [['g', 'f', 'g'], ['i', 's'], ['b', 'e', 's', 't']]\n",
      "The String after join : gfgisbest\n"
     ]
    }
   ],
   "source": [
    "\n",
    "\n",
    "test_list = [['g', 'f', 'g'], ['i', 's'], ['b', 'e', 's', 't']]\n",
    "\n",
    "# printing original list\n",
    "print(\"The original list is : \" + str(test_list))\n",
    "\n",
    "\n",
    "# Using join() + list comprehension\n",
    "res = ''.join(ele for sub in test_list for ele in sub)\n",
    "\n",
    "# printing result\n",
    "print(\"The String after join : \" + res)\n"
   ]
  },
  {
   "cell_type": "markdown",
   "metadata": {},
   "source": [
    "<p align=\"center\"> <img src=\"https://blog.teamtreehouse.com/wp-content/uploads/2017/11/Thanksgiving.png\" /> </p>"
   ]
  },
  {
   "cell_type": "code",
   "execution_count": null,
   "metadata": {},
   "outputs": [],
   "source": []
  }
 ],
 "metadata": {
  "kernelspec": {
   "display_name": "Python 3",
   "language": "python",
   "name": "python3"
  },
  "language_info": {
   "codemirror_mode": {
    "name": "ipython",
    "version": 3
   },
   "file_extension": ".py",
   "mimetype": "text/x-python",
   "name": "python",
   "nbconvert_exporter": "python",
   "pygments_lexer": "ipython3",
   "version": "3.10.4"
  },
  "orig_nbformat": 4
 },
 "nbformat": 4,
 "nbformat_minor": 2
}
